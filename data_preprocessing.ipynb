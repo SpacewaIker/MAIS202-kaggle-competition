{
  "nbformat": 4,
  "nbformat_minor": 0,
  "metadata": {
    "colab": {
      "name": "data preprocessing.ipynb",
      "provenance": []
    },
    "kernelspec": {
      "name": "python3",
      "display_name": "Python 3"
    },
    "language_info": {
      "name": "python"
    }
  },
  "cells": [
    {
      "cell_type": "markdown",
      "metadata": {
        "id": "HkiMZXJ2463s"
      },
      "source": [
        "# Data preprocessing\n",
        "\n",
        "The code in this notebook takes the input pictures and applies the mediapipe hands solution to find the relevant coordinates and saves them as a .csv file which can be used by the AI model to train."
      ]
    },
    {
      "cell_type": "markdown",
      "metadata": {
        "id": "htEFPb1rq3Ad"
      },
      "source": [
        "## Imports"
      ]
    },
    {
      "cell_type": "code",
      "metadata": {
        "colab": {
          "base_uri": "https://localhost:8080/"
        },
        "id": "dydGo9tI43jE",
        "outputId": "737314f6-82ca-4d75-8b03-a9676e0dab58"
      },
      "source": [
        "!pip install mediapipe\n",
        "\n",
        "import pandas as pd\n",
        "import cv2\n",
        "import mediapipe as mp\n",
        "import pandas as pd\n",
        "import numpy as np"
      ],
      "execution_count": 13,
      "outputs": [
        {
          "output_type": "stream",
          "name": "stdout",
          "text": [
            "Requirement already satisfied: mediapipe in /usr/local/lib/python3.7/dist-packages (0.8.9)\n",
            "Requirement already satisfied: attrs>=19.1.0 in /usr/local/lib/python3.7/dist-packages (from mediapipe) (21.2.0)\n",
            "Requirement already satisfied: absl-py in /usr/local/lib/python3.7/dist-packages (from mediapipe) (0.12.0)\n",
            "Requirement already satisfied: opencv-contrib-python in /usr/local/lib/python3.7/dist-packages (from mediapipe) (4.1.2.30)\n",
            "Requirement already satisfied: matplotlib in /usr/local/lib/python3.7/dist-packages (from mediapipe) (3.2.2)\n",
            "Requirement already satisfied: wheel in /usr/local/lib/python3.7/dist-packages (from mediapipe) (0.37.0)\n",
            "Requirement already satisfied: six in /usr/local/lib/python3.7/dist-packages (from mediapipe) (1.15.0)\n",
            "Requirement already satisfied: numpy in /usr/local/lib/python3.7/dist-packages (from mediapipe) (1.19.5)\n",
            "Requirement already satisfied: protobuf>=3.11.4 in /usr/local/lib/python3.7/dist-packages (from mediapipe) (3.17.3)\n",
            "Requirement already satisfied: python-dateutil>=2.1 in /usr/local/lib/python3.7/dist-packages (from matplotlib->mediapipe) (2.8.2)\n",
            "Requirement already satisfied: cycler>=0.10 in /usr/local/lib/python3.7/dist-packages (from matplotlib->mediapipe) (0.11.0)\n",
            "Requirement already satisfied: pyparsing!=2.0.4,!=2.1.2,!=2.1.6,>=2.0.1 in /usr/local/lib/python3.7/dist-packages (from matplotlib->mediapipe) (2.4.7)\n",
            "Requirement already satisfied: kiwisolver>=1.0.1 in /usr/local/lib/python3.7/dist-packages (from matplotlib->mediapipe) (1.3.2)\n"
          ]
        }
      ]
    },
    {
      "cell_type": "markdown",
      "metadata": {
        "id": "lRrqeYMUq6SM"
      },
      "source": [
        "## Download database"
      ]
    },
    {
      "cell_type": "code",
      "metadata": {
        "id": "Y328uPuRq9XX"
      },
      "source": [
        "# kaggle API\n",
        "!mkdir ~/.kaggle\n",
        "!echo '{\"username\":\"spacewaiker\",\"key\":\"062bca10262b87f5b8498c589cdc65c6\"}' > ~/.kaggle/kaggle.json"
      ],
      "execution_count": 5,
      "outputs": []
    },
    {
      "cell_type": "code",
      "metadata": {
        "colab": {
          "base_uri": "https://localhost:8080/"
        },
        "id": "zh9gQLp91dtI",
        "outputId": "68522350-58e1-4e9a-f0a9-82ebca7c0833"
      },
      "source": [
        "# download dataset:\n",
        "!kaggle datasets download grassknoted/asl-alphabet\n",
        "# extract files (-q disables writing status message for every file)\n",
        "!unzip -q asl-alphabet.zip\n",
        "!ls"
      ],
      "execution_count": 6,
      "outputs": [
        {
          "output_type": "stream",
          "name": "stdout",
          "text": [
            "Warning: Your Kaggle API key is readable by other users on this system! To fix this, you can run 'chmod 600 /root/.kaggle/kaggle.json'\n",
            "Downloading asl-alphabet.zip to /content\n",
            " 99% 1.02G/1.03G [00:32<00:00, 68.6MB/s]\n",
            "100% 1.03G/1.03G [00:32<00:00, 34.0MB/s]\n",
            "asl_alphabet_test  asl_alphabet_train  asl-alphabet.zip  drive\tsample_data\n"
          ]
        }
      ]
    },
    {
      "cell_type": "markdown",
      "metadata": {
        "id": "lXOXezV_wArw"
      },
      "source": [
        "Symbols:\n",
        "\n",
        "|Command  |ASL letters|Sign           |\n",
        "|---------|-----------|---------------|\n",
        "|Line     |L          |\"L\" shape      |\n",
        "|Ellipse  |A, S       |Fist           |\n",
        "|Rectangle|G          |Point right    |\n",
        "|Triangle |K, V       |Two fingers up |\n",
        "|Move     |B          |Palm           |\n",
        "|Delete   |R          |Crossed fingers|"
      ]
    },
    {
      "cell_type": "markdown",
      "metadata": {
        "id": "vLDSnh42S_YE"
      },
      "source": [
        "## Define functions to use later"
      ]
    },
    {
      "cell_type": "code",
      "metadata": {
        "id": "Az7MI8CeyzzW"
      },
      "source": [
        "'''\n",
        "Function to return the file names with the following format:\n",
        "A/A1234.jpg     if letter = 'A'  and   i = 1234\n",
        "'''\n",
        "def get_file_names(letter, begin, end):\n",
        "    files = []\n",
        "    for i in range(begin, end+1):\n",
        "        files.append(f'{letter}/{letter}{i}.jpg')\n",
        "    \n",
        "    return files\n",
        "\n",
        "'''\n",
        "Function that applies the mediapipe hands solution to an image.\n",
        "img is the image file name and hands is the hands instance to use\n",
        "'''\n",
        "def apply_hands(row):\n",
        "    global hands\n",
        "    img = row.name\n",
        "    result = row.copy()\n",
        "\n",
        "    image = cv2.imread(DIR + img)\n",
        "    image = cv2.cvtColor(image, cv2.COLOR_BGR2RGB)\n",
        "    \n",
        "    landmk = hands.process(image).multi_hand_world_landmarks\n",
        "\n",
        "    if landmk:    # success\n",
        "        landmarks = landmk[0]\n",
        "        list_tuples = [(i.x, i.y, i.z) for i in landmarks.landmark]\n",
        "        result[1:64] = [i for t in list_tuples for i in t]\n",
        "\n",
        "    return result"
      ],
      "execution_count": 7,
      "outputs": []
    },
    {
      "cell_type": "code",
      "metadata": {
        "colab": {
          "base_uri": "https://localhost:8080/"
        },
        "id": "A59iChORLQd4",
        "outputId": "30fd5a51-bfad-4c78-e6bc-f9e2552d896b"
      },
      "source": [
        "!pip show mediapipe"
      ],
      "execution_count": 8,
      "outputs": [
        {
          "output_type": "stream",
          "name": "stdout",
          "text": [
            "Name: mediapipe\n",
            "Version: 0.8.9\n",
            "Summary: MediaPipe is the simplest way for researchers and developers to build world-class ML solutions and applications for mobile, edge, cloud and the web.\n",
            "Home-page: https://github.com/google/mediapipe\n",
            "Author: The MediaPipe Authors\n",
            "Author-email: mediapipe@google.com\n",
            "License: Apache 2.0\n",
            "Location: /usr/local/lib/python3.7/dist-packages\n",
            "Requires: matplotlib, opencv-contrib-python, numpy, attrs, wheel, protobuf, six, absl-py\n",
            "Required-by: \n"
          ]
        }
      ]
    },
    {
      "cell_type": "code",
      "metadata": {
        "id": "hgVWLAB750Yy",
        "colab": {
          "base_uri": "https://localhost:8080/"
        },
        "outputId": "206992e4-1177-40ba-8941-3a9254a292f0"
      },
      "source": [
        "# Mediapipe stuff\n",
        "mp_hands = mp.solutions.hands\n",
        "mp_drawing = mp.solutions.drawing_utils\n",
        "mp_drawing_styles = mp.solutions.drawing_styles\n",
        "\n",
        "# get file names\n",
        "file_names = pd.DataFrame()\n",
        "\n",
        "file_names = file_names.append([['Line',      file] for file in get_file_names('L', 1, 3000)])\n",
        "file_names = file_names.append([['Ellipse',   file] for file in get_file_names('A', 1, 1500) + get_file_names('S', 1, 1500)])\n",
        "file_names = file_names.append([['Rectangle', file] for file in get_file_names('G', 1, 3000)])\n",
        "file_names = file_names.append([['Triangle',  file] for file in get_file_names('K', 1, 1500) + get_file_names('V', 1, 1500)])\n",
        "file_names = file_names.append([['Move',      file] for file in get_file_names('B', 1, 3000)])\n",
        "file_names = file_names.append([['Delete',    file] for file in get_file_names('R', 1, 3000)])\n",
        "\n",
        "file_names.rename(columns={0: 'Command', 1: 'File'}, inplace=True)\n",
        "file_names.set_index('File', inplace=True)\n",
        "print(file_names)"
      ],
      "execution_count": 16,
      "outputs": [
        {
          "output_type": "stream",
          "name": "stdout",
          "text": [
            "            Command\n",
            "File               \n",
            "L/L1.jpg       Line\n",
            "L/L2.jpg       Line\n",
            "L/L3.jpg       Line\n",
            "L/L4.jpg       Line\n",
            "L/L5.jpg       Line\n",
            "...             ...\n",
            "R/R2996.jpg  Delete\n",
            "R/R2997.jpg  Delete\n",
            "R/R2998.jpg  Delete\n",
            "R/R2999.jpg  Delete\n",
            "R/R3000.jpg  Delete\n",
            "\n",
            "[18000 rows x 1 columns]\n"
          ]
        }
      ]
    },
    {
      "cell_type": "code",
      "metadata": {
        "colab": {
          "base_uri": "https://localhost:8080/"
        },
        "id": "jsEYFUd88Bpn",
        "outputId": "65e49abc-b3fa-43e1-cda0-b41d2d0da169"
      },
      "source": [
        "from sklearn.model_selection import train_test_split\n",
        "\n",
        "DIR = 'asl_alphabet_train/asl_alphabet_train/'\n",
        "\n",
        "cols = ['Command'] + [i for i in range(21*3)]\n",
        "train_x = pd.DataFrame(np.zeros((16_200, 64)), columns=cols)\n",
        "test_x = pd.DataFrame(np.zeros((1800, 64)), columns=cols)\n",
        "\n",
        "\n",
        "train_x.index, test_x.index, train_x['Command'], test_x['Command'] = train_test_split(\n",
        "    file_names.index, file_names['Command'], test_size=0.1, random_state=1)\n",
        "\n",
        "\n",
        "# Loop over every file:\n",
        "with mp_hands.Hands(\n",
        "    static_image_mode=True,\n",
        "    max_num_hands=1,\n",
        "    min_detection_confidence=0.3\n",
        ") as hands:\n",
        "    train_x = train_x.apply(apply_hands, axis=1)\n",
        "\n",
        "print(train_x)\n",
        "\n",
        "with mp_hands.Hands(\n",
        "    static_image_mode=True,\n",
        "    max_num_hands=1,\n",
        "    min_detection_confidence=0.3\n",
        ") as hands:\n",
        "    test_x = test_x.apply(apply_hands, axis=1)\n",
        "\n",
        "print(test_x)"
      ],
      "execution_count": 17,
      "outputs": [
        {
          "output_type": "stream",
          "name": "stdout",
          "text": [
            "Index(['L/L1.jpg', 'L/L2.jpg', 'L/L3.jpg', 'L/L4.jpg', 'L/L5.jpg', 'L/L6.jpg',\n",
            "       'L/L7.jpg', 'L/L8.jpg', 'L/L9.jpg', 'L/L10.jpg',\n",
            "       ...\n",
            "       'R/R2991.jpg', 'R/R2992.jpg', 'R/R2993.jpg', 'R/R2994.jpg',\n",
            "       'R/R2995.jpg', 'R/R2996.jpg', 'R/R2997.jpg', 'R/R2998.jpg',\n",
            "       'R/R2999.jpg', 'R/R3000.jpg'],\n",
            "      dtype='object', name='File', length=18000)\n",
            "File\n",
            "L/L1.jpg         Line\n",
            "L/L2.jpg         Line\n",
            "L/L3.jpg         Line\n",
            "L/L4.jpg         Line\n",
            "L/L5.jpg         Line\n",
            "                ...  \n",
            "R/R2996.jpg    Delete\n",
            "R/R2997.jpg    Delete\n",
            "R/R2998.jpg    Delete\n",
            "R/R2999.jpg    Delete\n",
            "R/R3000.jpg    Delete\n",
            "Name: Command, Length: 18000, dtype: object\n",
            "               Command         0         1  ...        60        61        62\n",
            "File                                        ...                              \n",
            "S/S1455.jpg    Ellipse -0.013543  0.081017  ... -0.024496  0.036506 -0.024996\n",
            "V/V38.jpg     Triangle  0.000000  0.000000  ...  0.000000  0.000000  0.000000\n",
            "A/A926.jpg     Ellipse  0.003064  0.078733  ... -0.013647  0.044216 -0.030225\n",
            "B/B2436.jpg       Move -0.029652  0.089265  ... -0.023348 -0.053317 -0.030942\n",
            "G/G2514.jpg  Rectangle  0.000000  0.000000  ...  0.000000  0.000000  0.000000\n",
            "...                ...       ...       ...  ...       ...       ...       ...\n",
            "V/V456.jpg    Triangle  0.005883  0.084047  ... -0.006881  0.038507 -0.022260\n",
            "R/R2290.jpg     Delete -0.008646  0.091749  ... -0.026575  0.030114 -0.019964\n",
            "S/S693.jpg     Ellipse -0.032841  0.073159  ... -0.039879  0.020426 -0.016467\n",
            "B/B173.jpg        Move  0.000000  0.000000  ...  0.000000  0.000000  0.000000\n",
            "L/L236.jpg        Line -0.029626  0.065255  ... -0.037558  0.030117 -0.016722\n",
            "\n",
            "[16200 rows x 64 columns]\n",
            "               Command         0         1  ...        60        61        62\n",
            "File                                        ...                              \n",
            "L/L877.jpg        Line -0.031740  0.078603  ... -0.032756  0.030660 -0.027770\n",
            "S/S1165.jpg    Ellipse -0.003941  0.085968  ... -0.022927  0.037916 -0.029071\n",
            "L/L2980.jpg       Line -0.035706  0.078116  ... -0.031714  0.019936 -0.029383\n",
            "S/S1069.jpg    Ellipse -0.014099  0.084882  ... -0.027984  0.036862 -0.025839\n",
            "B/B1281.jpg       Move -0.017727  0.090790  ... -0.029313 -0.060695 -0.028249\n",
            "...                ...       ...       ...  ...       ...       ...       ...\n",
            "L/L1853.jpg       Line -0.035011  0.070982  ... -0.031160  0.025863 -0.028198\n",
            "G/G2553.jpg  Rectangle  0.042832  0.052958  ...  0.013281  0.037258 -0.018823\n",
            "B/B851.jpg        Move -0.018527  0.094130  ... -0.029609 -0.052706 -0.036685\n",
            "A/A807.jpg     Ellipse -0.003879  0.073769  ... -0.020791  0.039166 -0.028536\n",
            "K/K785.jpg    Triangle  0.008157  0.084553  ... -0.006813  0.032918 -0.024217\n",
            "\n",
            "[1800 rows x 64 columns]\n"
          ]
        }
      ]
    },
    {
      "cell_type": "code",
      "metadata": {
        "colab": {
          "base_uri": "https://localhost:8080/"
        },
        "id": "nZopnyERdWCC",
        "outputId": "ef072750-680f-4501-98e0-4caf2c3e353b"
      },
      "source": [
        "# sort dfs\n",
        "train_x.sort_index(inplace=True)\n",
        "test_x.sort_index(inplace=True)\n",
        "\n",
        "print(train_x)\n",
        "print(test_x)"
      ],
      "execution_count": 18,
      "outputs": [
        {
          "output_type": "stream",
          "name": "stdout",
          "text": [
            "              Command         0         1  ...        60        61        62\n",
            "File                                       ...                              \n",
            "A/A1.jpg      Ellipse -0.003756  0.080883  ... -0.012595  0.045449 -0.023966\n",
            "A/A10.jpg     Ellipse -0.005596  0.080807  ... -0.010209  0.049343 -0.019856\n",
            "A/A100.jpg    Ellipse  0.000000  0.000000  ...  0.000000  0.000000  0.000000\n",
            "A/A1000.jpg   Ellipse -0.002892  0.081772  ... -0.026531  0.037126 -0.027262\n",
            "A/A1001.jpg   Ellipse  0.005875  0.083854  ... -0.011564  0.046879 -0.030367\n",
            "...               ...       ...       ...  ...       ...       ...       ...\n",
            "V/V989.jpg   Triangle  0.007171  0.090853  ... -0.012653  0.039348 -0.019005\n",
            "V/V99.jpg    Triangle  0.000453  0.084601  ... -0.013265  0.031576 -0.022190\n",
            "V/V990.jpg   Triangle  0.008918  0.090453  ... -0.012972  0.038318 -0.018570\n",
            "V/V996.jpg   Triangle  0.010703  0.088921  ... -0.012597  0.037550 -0.019387\n",
            "V/V998.jpg   Triangle  0.008637  0.089558  ... -0.013161  0.035479 -0.019120\n",
            "\n",
            "[16200 rows x 64 columns]\n",
            "              Command         0         1  ...        60        61        62\n",
            "File                                       ...                              \n",
            "A/A1004.jpg   Ellipse  0.001602  0.085208  ... -0.013341  0.045383 -0.031744\n",
            "A/A1014.jpg   Ellipse -0.005892  0.079259  ... -0.023837  0.040704 -0.029033\n",
            "A/A1072.jpg   Ellipse -0.007961  0.076523  ... -0.021562  0.037372 -0.028781\n",
            "A/A1078.jpg   Ellipse -0.006064  0.079812  ... -0.019958  0.039224 -0.030387\n",
            "A/A1085.jpg   Ellipse -0.009182  0.083030  ... -0.022091  0.036009 -0.032164\n",
            "...               ...       ...       ...  ...       ...       ...       ...\n",
            "V/V993.jpg   Triangle  0.009097  0.091313  ... -0.012648  0.037592 -0.019617\n",
            "V/V994.jpg   Triangle  0.009953  0.090391  ... -0.013048  0.037309 -0.020766\n",
            "V/V995.jpg   Triangle  0.011002  0.089892  ... -0.011645  0.038984 -0.018921\n",
            "V/V997.jpg   Triangle  0.010816  0.089882  ... -0.013715  0.036473 -0.019262\n",
            "V/V999.jpg   Triangle  0.010636  0.089711  ... -0.012497  0.036150 -0.016871\n",
            "\n",
            "[1800 rows x 64 columns]\n"
          ]
        }
      ]
    },
    {
      "cell_type": "code",
      "metadata": {
        "id": "6Mf1imiHM03h"
      },
      "source": [
        "# save dfs\n",
        "train_x.to_csv(\"drive/MyDrive/MAISFinalProject/train_x.csv\")\n",
        "test_x.to_csv('drive/MyDrive/MAISFinalProject/test_x.csv')"
      ],
      "execution_count": 19,
      "outputs": []
    }
  ]
}